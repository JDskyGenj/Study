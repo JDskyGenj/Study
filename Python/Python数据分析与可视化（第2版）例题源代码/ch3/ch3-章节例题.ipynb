{
 "cells": [
  {
   "cell_type": "markdown",
   "source": [
    "【例3-1】创建ndarray数组。"
   ],
   "metadata": {}
  },
  {
   "cell_type": "code",
   "execution_count": 1,
   "source": [
    "import numpy as np"
   ],
   "outputs": [],
   "metadata": {}
  },
  {
   "cell_type": "code",
   "execution_count": 2,
   "source": [
    "\r\n",
    "data1=[1,3,5,7] #列表\r\n",
    "w1=np.array(data1)\r\n",
    "print('w1:',w1)\r\n",
    "data2=(2,4,6,8) #元组\r\n",
    "w2=np.array(data2)\r\n",
    "print('w2:',w2)\r\n",
    "data3=[[1,2,3,4],[5,6,7,8]] #多维数组\r\n",
    "w3=np.array(data3)\r\n",
    "print('w3:',w3)\r\n"
   ],
   "outputs": [
    {
     "output_type": "stream",
     "name": "stdout",
     "text": [
      "w1: [1 3 5 7]\n",
      "w2: [2 4 6 8]\n",
      "w3: [[1 2 3 4]\n",
      " [5 6 7 8]]\n"
     ]
    }
   ],
   "metadata": {}
  },
  {
   "cell_type": "markdown",
   "source": [
    "【例3-2】array函数中指定dtype。"
   ],
   "metadata": {}
  },
  {
   "cell_type": "code",
   "execution_count": 3,
   "source": [
    "w3=np.array([1,2,3,4],dtype='float64')\r\n",
    "print(w3.dtype)\r\n"
   ],
   "outputs": [
    {
     "output_type": "stream",
     "name": "stdout",
     "text": [
      "float64\n"
     ]
    }
   ],
   "metadata": {}
  },
  {
   "cell_type": "markdown",
   "source": [
    "【例3-3】利用arange创建数组。"
   ],
   "metadata": {}
  },
  {
   "cell_type": "code",
   "execution_count": 4,
   "source": [
    "warray=np.arange(10)\r\n",
    "print(warray)\r\n"
   ],
   "outputs": [
    {
     "output_type": "stream",
     "name": "stdout",
     "text": [
      "[0 1 2 3 4 5 6 7 8 9]\n"
     ]
    }
   ],
   "metadata": {}
  },
  {
   "cell_type": "markdown",
   "source": [
    "【例3-4】指定起始、终值的步长参数的arange。"
   ],
   "metadata": {}
  },
  {
   "cell_type": "code",
   "execution_count": 5,
   "source": [
    "warray=np.arange(0,1,0.2)\r\n",
    "print(warray)\r\n"
   ],
   "outputs": [
    {
     "output_type": "stream",
     "name": "stdout",
     "text": [
      "[0.  0.2 0.4 0.6 0.8]\n"
     ]
    }
   ],
   "metadata": {}
  },
  {
   "cell_type": "markdown",
   "source": [
    "【例3-5】利用linspace函数创建数组"
   ],
   "metadata": {}
  },
  {
   "cell_type": "code",
   "execution_count": 6,
   "source": [
    "warray = np.linspace(0,1,5)\r\n",
    "print(warray)\r\n"
   ],
   "outputs": [
    {
     "output_type": "stream",
     "name": "stdout",
     "text": [
      "[0.   0.25 0.5  0.75 1.  ]\n"
     ]
    }
   ],
   "metadata": {}
  },
  {
   "cell_type": "markdown",
   "source": [
    "【例3-6】利用logspace创建数组。"
   ],
   "metadata": {}
  },
  {
   "cell_type": "code",
   "execution_count": 7,
   "source": [
    "warray = np.linspace(0,1,5)\r\n",
    "print(warray)\r\n"
   ],
   "outputs": [
    {
     "output_type": "stream",
     "name": "stdout",
     "text": [
      "[0.   0.25 0.5  0.75 1.  ]\n"
     ]
    }
   ],
   "metadata": {}
  },
  {
   "cell_type": "code",
   "execution_count": 8,
   "source": [
    "warray = np.logspace(0,1,5) \r\n",
    "#生成1-10间的具有5个元素的等比数列\r\n",
    "print(warray)\r\n"
   ],
   "outputs": [
    {
     "output_type": "stream",
     "name": "stdout",
     "text": [
      "[ 1.          1.77827941  3.16227766  5.62341325 10.        ]\n"
     ]
    }
   ],
   "metadata": {}
  },
  {
   "cell_type": "markdown",
   "source": [
    "【例3-7】zeros函数创建全零矩阵。"
   ],
   "metadata": {}
  },
  {
   "cell_type": "code",
   "execution_count": 9,
   "source": [
    "print(\"一维数组：\",np.zeros(4))\r\n",
    "print(\"而维数组：\",np.zeros([3,3]))\r\n"
   ],
   "outputs": [
    {
     "output_type": "stream",
     "name": "stdout",
     "text": [
      "一维数组： [0. 0. 0. 0.]\n",
      "而维数组： [[0. 0. 0.]\n",
      " [0. 0. 0.]\n",
      " [0. 0. 0.]]\n"
     ]
    }
   ],
   "metadata": {}
  },
  {
   "cell_type": "markdown",
   "source": [
    "【例3-8】ones函数创建全1数组。"
   ],
   "metadata": {}
  },
  {
   "cell_type": "code",
   "execution_count": 10,
   "source": [
    "print(np.ones(5))\r\n",
    "print(np.ones([2,3]))\r\n"
   ],
   "outputs": [
    {
     "output_type": "stream",
     "name": "stdout",
     "text": [
      "[1. 1. 1. 1. 1.]\n",
      "[[1. 1. 1.]\n",
      " [1. 1. 1.]]\n"
     ]
    }
   ],
   "metadata": {}
  },
  {
   "cell_type": "markdown",
   "source": [
    "【例3-9】diag函数创建对角阵。"
   ],
   "metadata": {}
  },
  {
   "cell_type": "code",
   "execution_count": 11,
   "source": [
    "print(np.diag([1,2,3,4]))"
   ],
   "outputs": [
    {
     "output_type": "stream",
     "name": "stdout",
     "text": [
      "[[1 0 0 0]\n",
      " [0 2 0 0]\n",
      " [0 0 3 0]\n",
      " [0 0 0 4]]\n"
     ]
    }
   ],
   "metadata": {}
  },
  {
   "cell_type": "code",
   "execution_count": 12,
   "source": [
    "print('使用eye函数创建的数组为：\\n',np.eye(3))"
   ],
   "outputs": [
    {
     "output_type": "stream",
     "name": "stdout",
     "text": [
      "使用eye函数创建的数组为：\n",
      " [[1. 0. 0.]\n",
      " [0. 1. 0.]\n",
      " [0. 0. 1.]]\n"
     ]
    }
   ],
   "metadata": {}
  },
  {
   "cell_type": "markdown",
   "source": [
    "【例3-10】查看数组的属性。"
   ],
   "metadata": {}
  },
  {
   "cell_type": "code",
   "execution_count": 13,
   "source": [
    "warray = np.array([[1,2,3],[4,5,6]])\r\n",
    "print('秩为：',warray.ndim)\r\n",
    "print('形状为：',warray.shape)\r\n",
    "print('元素个数为：',warray.size)\r\n"
   ],
   "outputs": [
    {
     "output_type": "stream",
     "name": "stdout",
     "text": [
      "秩为： 2\n",
      "形状为： (2, 3)\n",
      "元素个数为： 6\n"
     ]
    }
   ],
   "metadata": {}
  },
  {
   "cell_type": "markdown",
   "source": [
    "【例3-11】设置数组的shape属性。"
   ],
   "metadata": {}
  },
  {
   "cell_type": "code",
   "execution_count": 14,
   "source": [
    "warray.shape = 3,2\r\n",
    "print(warray)\r\n"
   ],
   "outputs": [
    {
     "output_type": "stream",
     "name": "stdout",
     "text": [
      "[[1 2]\n",
      " [3 4]\n",
      " [5 6]]\n"
     ]
    }
   ],
   "metadata": {}
  },
  {
   "cell_type": "markdown",
   "source": [
    "【例3-12】数组的类型转换。"
   ],
   "metadata": {}
  },
  {
   "cell_type": "code",
   "execution_count": 15,
   "source": [
    "arr1 = np.arange(6)\r\n",
    "print(arr1.dtype)\r\n",
    "arr2 = arr1.astype(np.float64)\r\n",
    "print(arr2.dtype)\r\n"
   ],
   "outputs": [
    {
     "output_type": "stream",
     "name": "stdout",
     "text": [
      "int32\n",
      "float64\n"
     ]
    }
   ],
   "metadata": {}
  },
  {
   "cell_type": "markdown",
   "source": [
    "【例3-13】生成随机整数。"
   ],
   "metadata": {}
  },
  {
   "cell_type": "code",
   "execution_count": 16,
   "source": [
    "arr = np.random.randint(100,200,size = (2,4))\r\n",
    "print(arr)\r\n"
   ],
   "outputs": [
    {
     "output_type": "stream",
     "name": "stdout",
     "text": [
      "[[110 174 157 102]\n",
      " [172 100 102 139]]\n"
     ]
    }
   ],
   "metadata": {}
  },
  {
   "cell_type": "markdown",
   "source": [
    "【例3-14】生成[0,1]之间的随机数组。"
   ],
   "metadata": {}
  },
  {
   "cell_type": "code",
   "execution_count": 17,
   "source": [
    "arr1 = np.random.rand(5)\r\n",
    "print(arr1)\r\n",
    "arr2 = np.random.rand(4,2)\r\n",
    "print(arr2)\r\n"
   ],
   "outputs": [
    {
     "output_type": "stream",
     "name": "stdout",
     "text": [
      "[0.96789138 0.33075943 0.26242381 0.6600394  0.46229659]\n",
      "[[0.5990414  0.35926905]\n",
      " [0.44986037 0.25097046]\n",
      " [0.69300076 0.6991829 ]\n",
      " [0.97807338 0.23423321]]\n"
     ]
    }
   ],
   "metadata": {}
  },
  {
   "cell_type": "markdown",
   "source": [
    "【例3-15】改变数组维度。"
   ],
   "metadata": {}
  },
  {
   "cell_type": "code",
   "execution_count": 18,
   "source": [
    "arr1 = np.arange(8)\r\n",
    "print(arr1)\r\n",
    "arr1.reshape(4,2)\r\n",
    "print(arr1)\r\n"
   ],
   "outputs": [
    {
     "output_type": "stream",
     "name": "stdout",
     "text": [
      "[0 1 2 3 4 5 6 7]\n",
      "[0 1 2 3 4 5 6 7]\n"
     ]
    }
   ],
   "metadata": {}
  },
  {
   "cell_type": "markdown",
   "source": [
    "【例3-16】reshape的一个维度设置为-1。"
   ],
   "metadata": {}
  },
  {
   "cell_type": "code",
   "execution_count": 19,
   "source": [
    "arr1 = np.arange(12)\r\n",
    "print('arr1:',arr1)\r\n",
    "arr2 = arr1.reshape(2,-1)\r\n",
    "print('arr2:',arr2)\r\n"
   ],
   "outputs": [
    {
     "output_type": "stream",
     "name": "stdout",
     "text": [
      "arr1: [ 0  1  2  3  4  5  6  7  8  9 10 11]\n",
      "arr2: [[ 0  1  2  3  4  5]\n",
      " [ 6  7  8  9 10 11]]\n"
     ]
    }
   ],
   "metadata": {}
  },
  {
   "cell_type": "markdown",
   "source": [
    "【例3-17】数据散开。"
   ],
   "metadata": {}
  },
  {
   "cell_type": "code",
   "execution_count": 20,
   "source": [
    "arr1 = np.arange(12).reshape(3,4)\r\n",
    "print('arr1:',arr1)\r\n",
    "arr2 = arr1.ravel()\r\n",
    "print('arr2:',arr2)\r\n"
   ],
   "outputs": [
    {
     "output_type": "stream",
     "name": "stdout",
     "text": [
      "arr1: [[ 0  1  2  3]\n",
      " [ 4  5  6  7]\n",
      " [ 8  9 10 11]]\n",
      "arr2: [ 0  1  2  3  4  5  6  7  8  9 10 11]\n"
     ]
    }
   ],
   "metadata": {}
  },
  {
   "cell_type": "markdown",
   "source": [
    "【例3-18】两个数组的横向组合。"
   ],
   "metadata": {}
  },
  {
   "cell_type": "code",
   "execution_count": 21,
   "source": [
    "arr1 = np.arange(6).reshape(3,2)\r\n",
    "arr2 = arr1*2\r\n",
    "arr3 = np.hstack((arr1,arr2))\r\n",
    "print(arr3)\r\n"
   ],
   "outputs": [
    {
     "output_type": "stream",
     "name": "stdout",
     "text": [
      "[[ 0  1  0  2]\n",
      " [ 2  3  4  6]\n",
      " [ 4  5  8 10]]\n"
     ]
    }
   ],
   "metadata": {}
  },
  {
   "cell_type": "markdown",
   "source": [
    "【例3-19】数组纵向合并。"
   ],
   "metadata": {}
  },
  {
   "cell_type": "code",
   "execution_count": 22,
   "source": [
    "arr1 = np.arange(6).reshape(3,2)\r\n",
    "arr2 = arr1*2\r\n",
    "arr3 = np.vstack((arr1,arr2))\r\n",
    "print(arr3)\r\n"
   ],
   "outputs": [
    {
     "output_type": "stream",
     "name": "stdout",
     "text": [
      "[[ 0  1]\n",
      " [ 2  3]\n",
      " [ 4  5]\n",
      " [ 0  2]\n",
      " [ 4  6]\n",
      " [ 8 10]]\n"
     ]
    }
   ],
   "metadata": {}
  },
  {
   "cell_type": "markdown",
   "source": [
    "【例3-20】concatenate函数合并数组。"
   ],
   "metadata": {}
  },
  {
   "cell_type": "code",
   "execution_count": 23,
   "source": [
    "arr1 = np.arange(6).reshape(3,2)\r\n",
    "arr2 = arr1*2\r\n",
    "print('横向组合为：\\n',np.concatenate((arr1,arr2),axis = 1))\r\n",
    "print('纵向组合为：\\n',np.concatenate((arr1,arr2),axis = 0))\r\n"
   ],
   "outputs": [
    {
     "output_type": "stream",
     "name": "stdout",
     "text": [
      "横向组合为：\n",
      " [[ 0  1  0  2]\n",
      " [ 2  3  4  6]\n",
      " [ 4  5  8 10]]\n",
      "纵向组合为：\n",
      " [[ 0  1]\n",
      " [ 2  3]\n",
      " [ 4  5]\n",
      " [ 0  2]\n",
      " [ 4  6]\n",
      " [ 8 10]]\n"
     ]
    }
   ],
   "metadata": {}
  },
  {
   "cell_type": "markdown",
   "source": [
    "【例3-21】数组的分割。"
   ],
   "metadata": {}
  },
  {
   "cell_type": "code",
   "execution_count": 24,
   "source": [
    "arr = np.arange(16).reshape(4,4)\r\n",
    "print('横向分割为:\\n',np.hsplit(arr,2))\r\n",
    "print('纵向组合为:\\n',np.vsplit(arr,2))\r\n"
   ],
   "outputs": [
    {
     "output_type": "stream",
     "name": "stdout",
     "text": [
      "横向分割为:\n",
      " [array([[ 0,  1],\n",
      "       [ 4,  5],\n",
      "       [ 8,  9],\n",
      "       [12, 13]]), array([[ 2,  3],\n",
      "       [ 6,  7],\n",
      "       [10, 11],\n",
      "       [14, 15]])]\n",
      "纵向组合为:\n",
      " [array([[0, 1, 2, 3],\n",
      "       [4, 5, 6, 7]]), array([[ 8,  9, 10, 11],\n",
      "       [12, 13, 14, 15]])]\n"
     ]
    }
   ],
   "metadata": {}
  },
  {
   "cell_type": "markdown",
   "source": [
    "【例3-22】数组利用transpose转置。"
   ],
   "metadata": {}
  },
  {
   "cell_type": "code",
   "execution_count": 25,
   "source": [
    "arr = np.arange(6).reshape(3,2)\r\n",
    "print('矩阵：',arr)\r\n",
    "print('转置矩阵：',arr.transpose((1,0)))\r\n"
   ],
   "outputs": [
    {
     "output_type": "stream",
     "name": "stdout",
     "text": [
      "矩阵： [[0 1]\n",
      " [2 3]\n",
      " [4 5]]\n",
      "转置矩阵： [[0 2 4]\n",
      " [1 3 5]]\n"
     ]
    }
   ],
   "metadata": {}
  },
  {
   "cell_type": "markdown",
   "source": [
    "【例3-23】数组的T属性转置。"
   ],
   "metadata": {}
  },
  {
   "cell_type": "code",
   "execution_count": 26,
   "source": [
    "print(arr.T)"
   ],
   "outputs": [
    {
     "output_type": "stream",
     "name": "stdout",
     "text": [
      "[[0 2 4]\n",
      " [1 3 5]]\n"
     ]
    }
   ],
   "metadata": {}
  },
  {
   "cell_type": "markdown",
   "source": [
    "【例3-24】数组的轴对换。"
   ],
   "metadata": {}
  },
  {
   "cell_type": "code",
   "execution_count": 27,
   "source": [
    "arr = np.arange(6).reshape(3,2)\r\n",
    "print(arr)\r\n",
    "print(arr.swapaxes(0,1))\r\n"
   ],
   "outputs": [
    {
     "output_type": "stream",
     "name": "stdout",
     "text": [
      "[[0 1]\n",
      " [2 3]\n",
      " [4 5]]\n",
      "[[0 2 4]\n",
      " [1 3 5]]\n"
     ]
    }
   ],
   "metadata": {}
  },
  {
   "cell_type": "markdown",
   "source": [
    "【例3-25】一维数组的索引。"
   ],
   "metadata": {}
  },
  {
   "cell_type": "code",
   "execution_count": 28,
   "source": [
    "arr = np.arange(10)\r\n",
    "print(arr)\r\n",
    "print(arr[2])\r\n",
    "print(arr[-1])\r\n",
    "print(arr[1:4])\r\n"
   ],
   "outputs": [
    {
     "output_type": "stream",
     "name": "stdout",
     "text": [
      "[0 1 2 3 4 5 6 7 8 9]\n",
      "2\n",
      "9\n",
      "[1 2 3]\n"
     ]
    }
   ],
   "metadata": {}
  },
  {
   "cell_type": "markdown",
   "source": [
    "【例3-26】数组元素的复制。"
   ],
   "metadata": {}
  },
  {
   "cell_type": "code",
   "execution_count": 29,
   "source": [
    "arr1 = arr[-4:-1].copy()\r\n",
    "print(arr)\r\n",
    "print(arr1)\r\n"
   ],
   "outputs": [
    {
     "output_type": "stream",
     "name": "stdout",
     "text": [
      "[0 1 2 3 4 5 6 7 8 9]\n",
      "[6 7 8]\n"
     ]
    }
   ],
   "metadata": {}
  },
  {
   "cell_type": "markdown",
   "source": [
    "【例3-27】多维数组的索引。"
   ],
   "metadata": {}
  },
  {
   "cell_type": "code",
   "execution_count": 1,
   "source": [
    "import numpy as np\r\n",
    "arr = np.arange(12).reshape(3,4)\r\n",
    "print(arr)\r\n",
    "print(arr[0,1:3])  #索引第0行中第1列到第2列的元素\r\n",
    "print(arr[:,2])   #索引第2列元素\r\n",
    "print(arr[:1,:1])  #第0行第0列元素\r\n"
   ],
   "outputs": [
    {
     "output_type": "stream",
     "name": "stdout",
     "text": [
      "[[ 0  1  2  3]\n",
      " [ 4  5  6  7]\n",
      " [ 8  9 10 11]]\n",
      "[1 2]\n",
      "[ 2  6 10]\n",
      "[[0]]\n"
     ]
    }
   ],
   "metadata": {}
  },
  {
   "cell_type": "markdown",
   "source": [
    "【例3-28】访问多维数组。"
   ],
   "metadata": {}
  },
  {
   "cell_type": "code",
   "execution_count": 9,
   "source": [
    "import numpy as np\r\n",
    "arr = np.arange(12).reshape(3,4)\r\n",
    "#从两个序列的对应位置取出两个整数来组成下标：arr[0,1],arr[1,3]\r\n",
    "print(arr)\r\n",
    "print('索引结果1：',arr[(0,1),(1,3)])\r\n",
    "#索引第1、2行中第0、2、3列的元素\r\n",
    "print('索引结果2：',arr[1:2,(0,2,3)])\r\n",
    "mask = np.array([1,0,1],dtype = np.bool)\r\n",
    "print(mask)\r\n",
    "#mask是一个布尔数组，它索引第0,2行中第1列元素\r\n",
    "print('索引结果3：',arr[mask,1])\r\n"
   ],
   "outputs": [
    {
     "output_type": "stream",
     "name": "stdout",
     "text": [
      "[[ 0  1  2  3]\n",
      " [ 4  5  6  7]\n",
      " [ 8  9 10 11]]\n",
      "索引结果1： [1 7]\n",
      "索引结果2： [[4 6 7]]\n",
      "[ True False  True]\n",
      "索引结果3： [1 9]\n"
     ]
    },
    {
     "output_type": "stream",
     "name": "stderr",
     "text": [
      "C:\\Users\\DIYcat\\AppData\\Local\\Temp/ipykernel_7144/18514711.py:8: DeprecationWarning: `np.bool` is a deprecated alias for the builtin `bool`. To silence this warning, use `bool` by itself. Doing this will not modify any behavior and is safe. If you specifically wanted the numpy scalar type, use `np.bool_` here.\n",
      "Deprecated in NumPy 1.20; for more details and guidance: https://numpy.org/devdocs/release/1.20.0-notes.html#deprecations\n",
      "  mask = np.array([1,0,1],dtype = np.bool)\n"
     ]
    }
   ],
   "metadata": {}
  },
  {
   "cell_type": "markdown",
   "source": [
    "【例3-29】数组元素的追加。"
   ],
   "metadata": {}
  },
  {
   "cell_type": "code",
   "execution_count": 3,
   "source": [
    "import numpy as np\r\n",
    "a = [1,2,3]\r\n",
    "b = np.array([1,2,3])\r\n",
    "b_a = np.append(b,a)\r\n",
    "print('b_a数组：',b_a)\r\n",
    "wy = np.array([1,2,3])\r\n",
    "c = wy*2\r\n",
    "print('c数组：',c)\r\n"
   ],
   "outputs": [
    {
     "output_type": "stream",
     "name": "stdout",
     "text": [
      "b_a数组： [1 2 3 1 2 3]\n",
      "c数组： [2 4 6]\n"
     ]
    }
   ],
   "metadata": {}
  },
  {
   "cell_type": "markdown",
   "source": [
    "【例3-30】数组的四则运算。"
   ],
   "metadata": {}
  },
  {
   "cell_type": "code",
   "execution_count": 4,
   "source": [
    "import numpy as np\r\n",
    "x = np.array([1,2,3])\r\n",
    "y = np.array([4,5,6])\r\n",
    "print('数组相加结果：',x+y)\r\n",
    "print('数组相减结果：',x-y)\r\n",
    "print('数组相乘结果：',x*y)\r\n",
    "print('数组幂运算结果：',x**y)\r\n"
   ],
   "outputs": [
    {
     "output_type": "stream",
     "name": "stdout",
     "text": [
      "数组相加结果： [5 7 9]\n",
      "数组相减结果： [-3 -3 -3]\n",
      "数组相乘结果： [ 4 10 18]\n",
      "数组幂运算结果： [  1  32 729]\n"
     ]
    }
   ],
   "metadata": {}
  },
  {
   "cell_type": "markdown",
   "source": [
    "【例3-31】数组的比较运算。"
   ],
   "metadata": {}
  },
  {
   "cell_type": "code",
   "execution_count": 10,
   "source": [
    "import numpy as np\r\n",
    "x = np.array([1,3,6])\r\n",
    "y = np.array([2,3,4])\r\n",
    "print('比较结果(<)：',x<y)\r\n",
    "print('比较结果(>)：',x>y)\r\n",
    "print('比较结果(==)：',x==y)\r\n",
    "print('比较结果(>=)：',x>=y)\r\n",
    "print('比较结果(!=)：',x!=y)\r\n"
   ],
   "outputs": [
    {
     "output_type": "stream",
     "name": "stdout",
     "text": [
      "比较结果(<)： [ True False False]\n",
      "比较结果(>)： [False False  True]\n",
      "比较结果(==)： [False  True False]\n",
      "比较结果(>=)： [False  True  True]\n",
      "比较结果(!=)： [ True False  True]\n"
     ]
    }
   ],
   "metadata": {}
  },
  {
   "cell_type": "markdown",
   "source": [
    "【例3-32】ufunc函数的广播。"
   ],
   "metadata": {}
  },
  {
   "cell_type": "code",
   "execution_count": 11,
   "source": [
    "import numpy as np\r\n",
    "arr1 = np.array([[0,0,0],[1,1,1],[2,2,2]])\r\n",
    "arr2 = np.array([1,2,3])\r\n",
    "print('arr1:\\n',arr1)\r\n",
    "print('arr2:\\n',arr2)\r\n",
    "print('arr1+arr2:\\n',arr1+arr2)"
   ],
   "outputs": [
    {
     "output_type": "stream",
     "name": "stdout",
     "text": [
      "arr1:\n",
      " [[0 0 0]\n",
      " [1 1 1]\n",
      " [2 2 2]]\n",
      "arr2:\n",
      " [1 2 3]\n",
      "arr1+arr2:\n",
      " [[1 2 3]\n",
      " [2 3 4]\n",
      " [3 4 5]]\n"
     ]
    }
   ],
   "metadata": {}
  },
  {
   "cell_type": "code",
   "execution_count": 36,
   "source": [
    "a = np.arange(1, 13).reshape(4, 3) \r\n",
    "b = np.arange(1,5).reshape(4,1)\r\n",
    "print(a)\r\n",
    "print(b)\r\n",
    "print(a+b)"
   ],
   "outputs": [
    {
     "output_type": "stream",
     "name": "stdout",
     "text": [
      "[[ 1  2  3]\n",
      " [ 4  5  6]\n",
      " [ 7  8  9]\n",
      " [10 11 12]]\n",
      "[[1]\n",
      " [2]\n",
      " [3]\n",
      " [4]]\n",
      "[[ 2  3  4]\n",
      " [ 6  7  8]\n",
      " [10 11 12]\n",
      " [14 15 16]]\n"
     ]
    }
   ],
   "metadata": {}
  },
  {
   "cell_type": "markdown",
   "source": [
    "【例3-33】数组的条件逻辑运算。"
   ],
   "metadata": {}
  },
  {
   "cell_type": "code",
   "execution_count": 13,
   "source": [
    "import numpy as np\r\n",
    "arr1 = np.array([1,3,5,7])\r\n",
    "arr2 = np.array([2,4,6,8])\r\n",
    "cond = np.array([True,False,True,False])\r\n",
    "result = [(x if c else y)for x,y,c in zip(arr1,arr2,cond)]\r\n",
    "result\r\n"
   ],
   "outputs": [
    {
     "output_type": "execute_result",
     "data": {
      "text/plain": [
       "[1, 4, 5, 8]"
      ]
     },
     "metadata": {},
     "execution_count": 13
    }
   ],
   "metadata": {}
  },
  {
   "cell_type": "markdown",
   "source": [
    "【例3-34】where的基本用法。"
   ],
   "metadata": {}
  },
  {
   "cell_type": "code",
   "execution_count": 38,
   "source": [
    "np.where([[True,False], [True,True]],[[1,2], [3,4]],[[9,8], [7,6]])"
   ],
   "outputs": [
    {
     "output_type": "execute_result",
     "data": {
      "text/plain": [
       "array([[1, 8],\n",
       "       [3, 4]])"
      ]
     },
     "metadata": {},
     "execution_count": 38
    }
   ],
   "metadata": {}
  },
  {
   "cell_type": "markdown",
   "source": [
    "【例3-35】where中只有condition参数。"
   ],
   "metadata": {}
  },
  {
   "cell_type": "code",
   "execution_count": 39,
   "source": [
    "w = np.array([2,5,6,3,10])\r\n",
    "np.where(w>4)\r\n"
   ],
   "outputs": [
    {
     "output_type": "execute_result",
     "data": {
      "text/plain": [
       "(array([1, 2, 4], dtype=int64),)"
      ]
     },
     "metadata": {},
     "execution_count": 39
    }
   ],
   "metadata": {}
  },
  {
   "cell_type": "markdown",
   "source": [
    "【例3-36】数组的读写。"
   ],
   "metadata": {}
  },
  {
   "cell_type": "code",
   "execution_count": 40,
   "source": [
    "a = np.arange(1,13).reshape(3,4)\n",
    "print(a)\n",
    "np.save('arr.npy', a)      # np.save(\"arr\", a)\n",
    "c = np.load( 'arr.npy' )\n",
    "print(c)\n"
   ],
   "outputs": [
    {
     "output_type": "stream",
     "name": "stdout",
     "text": [
      "[[ 1  2  3  4]\n",
      " [ 5  6  7  8]\n",
      " [ 9 10 11 12]]\n",
      "[[ 1  2  3  4]\n",
      " [ 5  6  7  8]\n",
      " [ 9 10 11 12]]\n"
     ]
    }
   ],
   "metadata": {}
  },
  {
   "cell_type": "markdown",
   "source": [
    "【例3-37】多个数组保存。"
   ],
   "metadata": {}
  },
  {
   "cell_type": "code",
   "execution_count": 41,
   "source": [
    "a = np.array([[1,2,3],[4,5,6]])\n",
    "b = np.arange(0, 1.0, 0.1)\n",
    "c = np.sin(b)   #长度为10\n",
    "print(c)\n",
    "np.savez('result.npz', a, b, sin_array = c)\n",
    "r = np.load('result.npz')\n",
    "r['arr_0']   #数组a\n"
   ],
   "outputs": [
    {
     "output_type": "stream",
     "name": "stdout",
     "text": [
      "[0.         0.09983342 0.19866933 0.29552021 0.38941834 0.47942554\n",
      " 0.56464247 0.64421769 0.71735609 0.78332691]\n"
     ]
    },
    {
     "output_type": "execute_result",
     "data": {
      "text/plain": [
       "array([[1, 2, 3],\n",
       "       [4, 5, 6]])"
      ]
     },
     "metadata": {},
     "execution_count": 41
    }
   ],
   "metadata": {}
  },
  {
   "cell_type": "markdown",
   "source": [
    "【例3-38】读写文本文件。"
   ],
   "metadata": {}
  },
  {
   "cell_type": "code",
   "execution_count": 42,
   "source": [
    "a = np.arange(0,12,0.5).reshape(4,-1)\n",
    "np.savetxt(\"data//a1-out.txt\", a)  \n",
    "#缺省按照'%.18e'格式保存数值\n",
    "np.loadtxt(\"data//a1-out.txt\")\n",
    "np.savetxt(\"data//a2-out.txt\", a, fmt = \"%d\", delimiter = \",\") \n",
    "#改为保存为整数，以逗号分隔\n",
    "np.loadtxt(\"data//a2-out.txt\",delimiter = \",\") \n",
    "# 读入的时候也需要指定逗号分隔\n"
   ],
   "outputs": [
    {
     "output_type": "execute_result",
     "data": {
      "text/plain": [
       "array([[ 0.,  0.,  1.,  1.,  2.,  2.],\n",
       "       [ 3.,  3.,  4.,  4.,  5.,  5.],\n",
       "       [ 6.,  6.,  7.,  7.,  8.,  8.],\n",
       "       [ 9.,  9., 10., 10., 11., 11.]])"
      ]
     },
     "metadata": {},
     "execution_count": 42
    }
   ],
   "metadata": {}
  },
  {
   "cell_type": "markdown",
   "source": [
    "【例3-39】使用sort函数进行排序。"
   ],
   "metadata": {}
  },
  {
   "cell_type": "code",
   "execution_count": 43,
   "source": [
    "arr = np.array([7,9,5,2,9,4,3,1,4,3])\n",
    "print('原数组：',arr)\n",
    "arr.sort()\n",
    "print('排序后：',arr)\n"
   ],
   "outputs": [
    {
     "output_type": "stream",
     "name": "stdout",
     "text": [
      "原数组： [7 9 5 2 9 4 3 1 4 3]\n",
      "排序后： [1 2 3 3 4 4 5 7 9 9]\n"
     ]
    }
   ],
   "metadata": {}
  },
  {
   "cell_type": "markdown",
   "source": [
    "【例3-40】带轴向参数的sort排序。"
   ],
   "metadata": {}
  },
  {
   "cell_type": "code",
   "execution_count": 44,
   "source": [
    "arr = np.array([[4,2,9,5],[6,4,8,3],[1,6,2,4]])\n",
    "print('原数组：\\n',arr)\n",
    "arr.sort(axis = 1)   #沿横向排序\n",
    "print('横向排序后：\\n',arr)\n"
   ],
   "outputs": [
    {
     "output_type": "stream",
     "name": "stdout",
     "text": [
      "原数组：\n",
      " [[4 2 9 5]\n",
      " [6 4 8 3]\n",
      " [1 6 2 4]]\n",
      "横向排序后：\n",
      " [[2 4 5 9]\n",
      " [3 4 6 8]\n",
      " [1 2 4 6]]\n"
     ]
    }
   ],
   "metadata": {}
  },
  {
   "cell_type": "markdown",
   "source": [
    "【例3-41】使用argsort函数进行排序。"
   ],
   "metadata": {}
  },
  {
   "cell_type": "code",
   "execution_count": 45,
   "source": [
    "arr = np.array([7,9,5,2,9,4,3,1,4,3])\n",
    "print('原数组：',arr)\n",
    "print('排序后：',arr.argsort())\n",
    "#返回值为数组排序后的下标排列\n",
    "print('显示较大的5个数：',arr[arr.argsort()][-5:])\n"
   ],
   "outputs": [
    {
     "output_type": "stream",
     "name": "stdout",
     "text": [
      "原数组： [7 9 5 2 9 4 3 1 4 3]\n",
      "排序后： [7 3 6 9 5 8 2 0 1 4]\n",
      "显示较大的5个数： [4 5 7 9 9]\n"
     ]
    }
   ],
   "metadata": {}
  },
  {
   "cell_type": "markdown",
   "source": [
    "【例3-42】使用lexsort排序。"
   ],
   "metadata": {}
  },
  {
   "cell_type": "code",
   "execution_count": 46,
   "source": [
    "a = [1,5,7,2,3,-2,4]\n",
    "b = [9,5,2,0,6,8,7]\n",
    "ind=np.lexsort((b,a))\n",
    "print('ind:',ind)\n",
    "tmp=[(a[i],b[i])for i in ind]\n",
    "print('tmp:',tmp)\n"
   ],
   "outputs": [
    {
     "output_type": "stream",
     "name": "stdout",
     "text": [
      "ind: [5 0 3 4 6 1 2]\n",
      "tmp: [(-2, 8), (1, 9), (2, 0), (3, 6), (4, 7), (5, 5), (7, 2)]\n"
     ]
    }
   ],
   "metadata": {}
  },
  {
   "cell_type": "markdown",
   "source": [
    "【例3-43】数组内数据去重。"
   ],
   "metadata": {}
  },
  {
   "cell_type": "code",
   "execution_count": 47,
   "source": [
    "names = np.array(['红色','蓝色','蓝色','白色','红色','红色'])\n",
    "print('原数组：',names)\n",
    "print('去重后的数组:',np.unique(names)) \n",
    "print('数据出现次数:',np.unique(names,return_counts=True))\n",
    "\n"
   ],
   "outputs": [
    {
     "output_type": "stream",
     "name": "stdout",
     "text": [
      "原数组： ['红色' '蓝色' '蓝色' '白色' '红色' '红色']\n",
      "去重后的数组: ['白色' '红色' '蓝色']\n",
      "数据出现次数: (array(['白色', '红色', '蓝色'], dtype='<U2'), array([1, 3, 2], dtype=int64))\n"
     ]
    }
   ],
   "metadata": {}
  },
  {
   "cell_type": "markdown",
   "source": [
    "【例3-44】使用tile函数实现数据重复。"
   ],
   "metadata": {}
  },
  {
   "cell_type": "code",
   "execution_count": 48,
   "source": [
    "arr = np.arange(5)\n",
    "print('原数组：',arr)\n",
    "wy = np.tile(arr,3)\n",
    "print('重复数据处理：\\n',wy)\n"
   ],
   "outputs": [
    {
     "output_type": "stream",
     "name": "stdout",
     "text": [
      "原数组： [0 1 2 3 4]\n",
      "重复数据处理：\n",
      " [0 1 2 3 4 0 1 2 3 4 0 1 2 3 4]\n"
     ]
    }
   ],
   "metadata": {}
  },
  {
   "cell_type": "markdown",
   "source": [
    "【例3-45】使用repeat函数实现数据重复。"
   ],
   "metadata": {}
  },
  {
   "cell_type": "code",
   "execution_count": 49,
   "source": [
    "arr = np.arange(5)\n",
    "print('原数组：',arr)\n",
    "wy = np.tile(arr,3)\n",
    "print('重复数据处理：\\n',wy)\n",
    "arr2 = np.array([[1,2,3],[4,5,6]])\n",
    "print('重复数据处理：\\n',arr2.repeat(2,axis=0)) \n"
   ],
   "outputs": [
    {
     "output_type": "stream",
     "name": "stdout",
     "text": [
      "原数组： [0 1 2 3 4]\n",
      "重复数据处理：\n",
      " [0 1 2 3 4 0 1 2 3 4 0 1 2 3 4]\n",
      "重复数据处理：\n",
      " [[1 2 3]\n",
      " [1 2 3]\n",
      " [4 5 6]\n",
      " [4 5 6]]\n"
     ]
    }
   ],
   "metadata": {}
  },
  {
   "cell_type": "markdown",
   "source": [
    "【例3-46】NumPy中常用函数的使用。"
   ],
   "metadata": {}
  },
  {
   "cell_type": "code",
   "execution_count": 50,
   "source": [
    "arr = np.arange(20).reshape(4,5)\n",
    "print('创建的数组：\\n',arr)\n",
    "print('数组的和：',np.sum(arr))\n",
    "print('数组纵轴的和：',np.sum(arr,axis = 0))\n",
    "print('数组横轴的和：',np.sum(arr,axis = 1))\n",
    "print('数组的均值：',np.mean(arr))\n",
    "print('数组横轴的均值：',np.mean(arr,axis = 1))\n",
    "print('数组的标准差：',np.std(arr))\n",
    "print('数组横轴的标准差：',np.std(arr,axis = 1))\n"
   ],
   "outputs": [
    {
     "output_type": "stream",
     "name": "stdout",
     "text": [
      "创建的数组：\n",
      " [[ 0  1  2  3  4]\n",
      " [ 5  6  7  8  9]\n",
      " [10 11 12 13 14]\n",
      " [15 16 17 18 19]]\n",
      "数组的和： 190\n",
      "数组纵轴的和： [30 34 38 42 46]\n",
      "数组横轴的和： [10 35 60 85]\n",
      "数组的均值： 9.5\n",
      "数组横轴的均值： [ 2.  7. 12. 17.]\n",
      "数组的标准差： 5.766281297335398\n",
      "数组横轴的标准差： [1.41421356 1.41421356 1.41421356 1.41421356]\n"
     ]
    }
   ],
   "metadata": {}
  }
 ],
 "metadata": {
  "kernelspec": {
   "name": "python3",
   "display_name": "Python 3.9.7 64-bit"
  },
  "language_info": {
   "codemirror_mode": {
    "name": "ipython",
    "version": 3
   },
   "file_extension": ".py",
   "mimetype": "text/x-python",
   "name": "python",
   "nbconvert_exporter": "python",
   "pygments_lexer": "ipython3",
   "version": "3.9.7"
  },
  "toc": {
   "base_numbering": 1,
   "nav_menu": {},
   "number_sections": true,
   "sideBar": true,
   "skip_h1_title": false,
   "title_cell": "Table of Contents",
   "title_sidebar": "Contents",
   "toc_cell": false,
   "toc_position": {},
   "toc_section_display": true,
   "toc_window_display": false
  },
  "interpreter": {
   "hash": "c540b3681054690ee29db5bda2eeec463f97770962c7234a93752acfc0288802"
  }
 },
 "nbformat": 4,
 "nbformat_minor": 2
}